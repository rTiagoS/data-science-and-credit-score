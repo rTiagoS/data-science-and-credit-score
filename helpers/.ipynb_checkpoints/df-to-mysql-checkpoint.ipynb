{
 "cells": [
  {
   "cell_type": "code",
   "execution_count": 8,
   "id": "453952e5",
   "metadata": {},
   "outputs": [],
   "source": [
    "# Libs\n",
    "import pandas as pd"
   ]
  },
  {
   "cell_type": "code",
   "execution_count": 9,
   "id": "e838674c",
   "metadata": {},
   "outputs": [
    {
     "name": "stderr",
     "output_type": "stream",
     "text": [
      "/home/rtiagos/anaconda3/envs/ds/lib/python3.10/site-packages/IPython/core/interactiveshell.py:3444: DtypeWarning: Columns (20) have mixed types.Specify dtype option on import or set low_memory=False.\n",
      "  exec(code_obj, self.user_global_ns, self.user_ns)\n"
     ]
    }
   ],
   "source": [
    "df = pd.read_csv('../jupyter-volume/dataset/original_loan_data_2007_2014.csv')"
   ]
  },
  {
   "cell_type": "code",
   "execution_count": 10,
   "id": "3071a46b",
   "metadata": {
    "scrolled": true
   },
   "outputs": [
    {
     "name": "stdout",
     "output_type": "stream",
     "text": [
      "<class 'pandas.core.frame.DataFrame'>\n",
      "RangeIndex: 466285 entries, 0 to 466284\n",
      "Data columns (total 75 columns):\n",
      " #   Column                       Non-Null Count   Dtype  \n",
      "---  ------                       --------------   -----  \n",
      " 0   Unnamed: 0                   466285 non-null  int64  \n",
      " 1   id                           466285 non-null  int64  \n",
      " 2   member_id                    466285 non-null  int64  \n",
      " 3   loan_amnt                    466285 non-null  int64  \n",
      " 4   funded_amnt                  466285 non-null  int64  \n",
      " 5   funded_amnt_inv              466285 non-null  float64\n",
      " 6   term                         466285 non-null  object \n",
      " 7   int_rate                     466285 non-null  float64\n",
      " 8   installment                  466285 non-null  float64\n",
      " 9   grade                        466285 non-null  object \n",
      " 10  sub_grade                    466285 non-null  object \n",
      " 11  emp_title                    438697 non-null  object \n",
      " 12  emp_length                   445277 non-null  object \n",
      " 13  home_ownership               466285 non-null  object \n",
      " 14  annual_inc                   466281 non-null  float64\n",
      " 15  verification_status          466285 non-null  object \n",
      " 16  issue_d                      466285 non-null  object \n",
      " 17  loan_status                  466285 non-null  object \n",
      " 18  pymnt_plan                   466285 non-null  object \n",
      " 19  url                          466285 non-null  object \n",
      " 20  desc                         125983 non-null  object \n",
      " 21  purpose                      466285 non-null  object \n",
      " 22  title                        466265 non-null  object \n",
      " 23  zip_code                     466285 non-null  object \n",
      " 24  addr_state                   466285 non-null  object \n",
      " 25  dti                          466285 non-null  float64\n",
      " 26  delinq_2yrs                  466256 non-null  float64\n",
      " 27  earliest_cr_line             466256 non-null  object \n",
      " 28  inq_last_6mths               466256 non-null  float64\n",
      " 29  mths_since_last_delinq       215934 non-null  float64\n",
      " 30  mths_since_last_record       62638 non-null   float64\n",
      " 31  open_acc                     466256 non-null  float64\n",
      " 32  pub_rec                      466256 non-null  float64\n",
      " 33  revol_bal                    466285 non-null  int64  \n",
      " 34  revol_util                   465945 non-null  float64\n",
      " 35  total_acc                    466256 non-null  float64\n",
      " 36  initial_list_status          466285 non-null  object \n",
      " 37  out_prncp                    466285 non-null  float64\n",
      " 38  out_prncp_inv                466285 non-null  float64\n",
      " 39  total_pymnt                  466285 non-null  float64\n",
      " 40  total_pymnt_inv              466285 non-null  float64\n",
      " 41  total_rec_prncp              466285 non-null  float64\n",
      " 42  total_rec_int                466285 non-null  float64\n",
      " 43  total_rec_late_fee           466285 non-null  float64\n",
      " 44  recoveries                   466285 non-null  float64\n",
      " 45  collection_recovery_fee      466285 non-null  float64\n",
      " 46  last_pymnt_d                 465909 non-null  object \n",
      " 47  last_pymnt_amnt              466285 non-null  float64\n",
      " 48  next_pymnt_d                 239071 non-null  object \n",
      " 49  last_credit_pull_d           466243 non-null  object \n",
      " 50  collections_12_mths_ex_med   466140 non-null  float64\n",
      " 51  mths_since_last_major_derog  98974 non-null   float64\n",
      " 52  policy_code                  466285 non-null  int64  \n",
      " 53  application_type             466285 non-null  object \n",
      " 54  annual_inc_joint             0 non-null       float64\n",
      " 55  dti_joint                    0 non-null       float64\n",
      " 56  verification_status_joint    0 non-null       float64\n",
      " 57  acc_now_delinq               466256 non-null  float64\n",
      " 58  tot_coll_amt                 396009 non-null  float64\n",
      " 59  tot_cur_bal                  396009 non-null  float64\n",
      " 60  open_acc_6m                  0 non-null       float64\n",
      " 61  open_il_6m                   0 non-null       float64\n",
      " 62  open_il_12m                  0 non-null       float64\n",
      " 63  open_il_24m                  0 non-null       float64\n",
      " 64  mths_since_rcnt_il           0 non-null       float64\n",
      " 65  total_bal_il                 0 non-null       float64\n",
      " 66  il_util                      0 non-null       float64\n",
      " 67  open_rv_12m                  0 non-null       float64\n",
      " 68  open_rv_24m                  0 non-null       float64\n",
      " 69  max_bal_bc                   0 non-null       float64\n",
      " 70  all_util                     0 non-null       float64\n",
      " 71  total_rev_hi_lim             396009 non-null  float64\n",
      " 72  inq_fi                       0 non-null       float64\n",
      " 73  total_cu_tl                  0 non-null       float64\n",
      " 74  inq_last_12m                 0 non-null       float64\n",
      "dtypes: float64(46), int64(7), object(22)\n",
      "memory usage: 266.8+ MB\n"
     ]
    }
   ],
   "source": [
    "df.info()"
   ]
  },
  {
   "cell_type": "code",
   "execution_count": 11,
   "id": "42552080",
   "metadata": {},
   "outputs": [
    {
     "data": {
      "text/html": [
       "<div>\n",
       "<style scoped>\n",
       "    .dataframe tbody tr th:only-of-type {\n",
       "        vertical-align: middle;\n",
       "    }\n",
       "\n",
       "    .dataframe tbody tr th {\n",
       "        vertical-align: top;\n",
       "    }\n",
       "\n",
       "    .dataframe thead th {\n",
       "        text-align: right;\n",
       "    }\n",
       "</style>\n",
       "<table border=\"1\" class=\"dataframe\">\n",
       "  <thead>\n",
       "    <tr style=\"text-align: right;\">\n",
       "      <th></th>\n",
       "      <th>id</th>\n",
       "      <th>member_id</th>\n",
       "      <th>loan_amnt</th>\n",
       "      <th>funded_amnt</th>\n",
       "      <th>funded_amnt_inv</th>\n",
       "      <th>term</th>\n",
       "      <th>int_rate</th>\n",
       "      <th>installment</th>\n",
       "      <th>grade</th>\n",
       "      <th>sub_grade</th>\n",
       "      <th>...</th>\n",
       "      <th>total_bal_il</th>\n",
       "      <th>il_util</th>\n",
       "      <th>open_rv_12m</th>\n",
       "      <th>open_rv_24m</th>\n",
       "      <th>max_bal_bc</th>\n",
       "      <th>all_util</th>\n",
       "      <th>total_rev_hi_lim</th>\n",
       "      <th>inq_fi</th>\n",
       "      <th>total_cu_tl</th>\n",
       "      <th>inq_last_12m</th>\n",
       "    </tr>\n",
       "  </thead>\n",
       "  <tbody>\n",
       "    <tr>\n",
       "      <th>0</th>\n",
       "      <td>1077501</td>\n",
       "      <td>1296599</td>\n",
       "      <td>5000</td>\n",
       "      <td>5000</td>\n",
       "      <td>4975.0</td>\n",
       "      <td>36 months</td>\n",
       "      <td>10.65</td>\n",
       "      <td>162.87</td>\n",
       "      <td>B</td>\n",
       "      <td>B2</td>\n",
       "      <td>...</td>\n",
       "      <td>NaN</td>\n",
       "      <td>NaN</td>\n",
       "      <td>NaN</td>\n",
       "      <td>NaN</td>\n",
       "      <td>NaN</td>\n",
       "      <td>NaN</td>\n",
       "      <td>NaN</td>\n",
       "      <td>NaN</td>\n",
       "      <td>NaN</td>\n",
       "      <td>NaN</td>\n",
       "    </tr>\n",
       "    <tr>\n",
       "      <th>1</th>\n",
       "      <td>1077430</td>\n",
       "      <td>1314167</td>\n",
       "      <td>2500</td>\n",
       "      <td>2500</td>\n",
       "      <td>2500.0</td>\n",
       "      <td>60 months</td>\n",
       "      <td>15.27</td>\n",
       "      <td>59.83</td>\n",
       "      <td>C</td>\n",
       "      <td>C4</td>\n",
       "      <td>...</td>\n",
       "      <td>NaN</td>\n",
       "      <td>NaN</td>\n",
       "      <td>NaN</td>\n",
       "      <td>NaN</td>\n",
       "      <td>NaN</td>\n",
       "      <td>NaN</td>\n",
       "      <td>NaN</td>\n",
       "      <td>NaN</td>\n",
       "      <td>NaN</td>\n",
       "      <td>NaN</td>\n",
       "    </tr>\n",
       "    <tr>\n",
       "      <th>2</th>\n",
       "      <td>1077175</td>\n",
       "      <td>1313524</td>\n",
       "      <td>2400</td>\n",
       "      <td>2400</td>\n",
       "      <td>2400.0</td>\n",
       "      <td>36 months</td>\n",
       "      <td>15.96</td>\n",
       "      <td>84.33</td>\n",
       "      <td>C</td>\n",
       "      <td>C5</td>\n",
       "      <td>...</td>\n",
       "      <td>NaN</td>\n",
       "      <td>NaN</td>\n",
       "      <td>NaN</td>\n",
       "      <td>NaN</td>\n",
       "      <td>NaN</td>\n",
       "      <td>NaN</td>\n",
       "      <td>NaN</td>\n",
       "      <td>NaN</td>\n",
       "      <td>NaN</td>\n",
       "      <td>NaN</td>\n",
       "    </tr>\n",
       "    <tr>\n",
       "      <th>3</th>\n",
       "      <td>1076863</td>\n",
       "      <td>1277178</td>\n",
       "      <td>10000</td>\n",
       "      <td>10000</td>\n",
       "      <td>10000.0</td>\n",
       "      <td>36 months</td>\n",
       "      <td>13.49</td>\n",
       "      <td>339.31</td>\n",
       "      <td>C</td>\n",
       "      <td>C1</td>\n",
       "      <td>...</td>\n",
       "      <td>NaN</td>\n",
       "      <td>NaN</td>\n",
       "      <td>NaN</td>\n",
       "      <td>NaN</td>\n",
       "      <td>NaN</td>\n",
       "      <td>NaN</td>\n",
       "      <td>NaN</td>\n",
       "      <td>NaN</td>\n",
       "      <td>NaN</td>\n",
       "      <td>NaN</td>\n",
       "    </tr>\n",
       "    <tr>\n",
       "      <th>4</th>\n",
       "      <td>1075358</td>\n",
       "      <td>1311748</td>\n",
       "      <td>3000</td>\n",
       "      <td>3000</td>\n",
       "      <td>3000.0</td>\n",
       "      <td>60 months</td>\n",
       "      <td>12.69</td>\n",
       "      <td>67.79</td>\n",
       "      <td>B</td>\n",
       "      <td>B5</td>\n",
       "      <td>...</td>\n",
       "      <td>NaN</td>\n",
       "      <td>NaN</td>\n",
       "      <td>NaN</td>\n",
       "      <td>NaN</td>\n",
       "      <td>NaN</td>\n",
       "      <td>NaN</td>\n",
       "      <td>NaN</td>\n",
       "      <td>NaN</td>\n",
       "      <td>NaN</td>\n",
       "      <td>NaN</td>\n",
       "    </tr>\n",
       "  </tbody>\n",
       "</table>\n",
       "<p>5 rows × 74 columns</p>\n",
       "</div>"
      ],
      "text/plain": [
       "        id  member_id  loan_amnt  funded_amnt  funded_amnt_inv        term  \\\n",
       "0  1077501    1296599       5000         5000           4975.0   36 months   \n",
       "1  1077430    1314167       2500         2500           2500.0   60 months   \n",
       "2  1077175    1313524       2400         2400           2400.0   36 months   \n",
       "3  1076863    1277178      10000        10000          10000.0   36 months   \n",
       "4  1075358    1311748       3000         3000           3000.0   60 months   \n",
       "\n",
       "   int_rate  installment grade sub_grade  ... total_bal_il il_util  \\\n",
       "0     10.65       162.87     B        B2  ...          NaN     NaN   \n",
       "1     15.27        59.83     C        C4  ...          NaN     NaN   \n",
       "2     15.96        84.33     C        C5  ...          NaN     NaN   \n",
       "3     13.49       339.31     C        C1  ...          NaN     NaN   \n",
       "4     12.69        67.79     B        B5  ...          NaN     NaN   \n",
       "\n",
       "  open_rv_12m  open_rv_24m max_bal_bc all_util total_rev_hi_lim inq_fi  \\\n",
       "0         NaN          NaN        NaN      NaN              NaN    NaN   \n",
       "1         NaN          NaN        NaN      NaN              NaN    NaN   \n",
       "2         NaN          NaN        NaN      NaN              NaN    NaN   \n",
       "3         NaN          NaN        NaN      NaN              NaN    NaN   \n",
       "4         NaN          NaN        NaN      NaN              NaN    NaN   \n",
       "\n",
       "  total_cu_tl inq_last_12m  \n",
       "0         NaN          NaN  \n",
       "1         NaN          NaN  \n",
       "2         NaN          NaN  \n",
       "3         NaN          NaN  \n",
       "4         NaN          NaN  \n",
       "\n",
       "[5 rows x 74 columns]"
      ]
     },
     "execution_count": 11,
     "metadata": {},
     "output_type": "execute_result"
    }
   ],
   "source": [
    "df = df.drop(['Unnamed: 0'], axis = 1)\n",
    "df.head()"
   ]
  },
  {
   "cell_type": "code",
   "execution_count": null,
   "id": "83ac6c86",
   "metadata": {},
   "outputs": [],
   "source": []
  },
  {
   "cell_type": "code",
   "execution_count": null,
   "id": "8f276316",
   "metadata": {},
   "outputs": [],
   "source": []
  },
  {
   "cell_type": "markdown",
   "id": "61c9dddc",
   "metadata": {},
   "source": [
    "### 1 - Install MySQL connector module\n"
   ]
  },
  {
   "cell_type": "code",
   "execution_count": 12,
   "id": "9bfd28d8",
   "metadata": {
    "scrolled": false
   },
   "outputs": [
    {
     "name": "stdout",
     "output_type": "stream",
     "text": [
      "Requirement already satisfied: mysql-connector-python in /home/rtiagos/anaconda3/envs/ds/lib/python3.10/site-packages (8.0.27)\r\n",
      "Requirement already satisfied: protobuf>=3.0.0 in /home/rtiagos/anaconda3/envs/ds/lib/python3.10/site-packages (from mysql-connector-python) (3.19.1)\r\n"
     ]
    }
   ],
   "source": [
    "!pip install mysql-connector-python"
   ]
  },
  {
   "cell_type": "code",
   "execution_count": 13,
   "id": "c1ff3e46",
   "metadata": {},
   "outputs": [
    {
     "name": "stdout",
     "output_type": "stream",
     "text": [
      "Requirement already satisfied: sqlalchemy in /home/rtiagos/anaconda3/envs/ds/lib/python3.10/site-packages (1.4.27)\n",
      "Requirement already satisfied: greenlet!=0.4.17 in /home/rtiagos/anaconda3/envs/ds/lib/python3.10/site-packages (from sqlalchemy) (1.1.2)\n"
     ]
    }
   ],
   "source": [
    "!pip install sqlalchemy"
   ]
  },
  {
   "cell_type": "markdown",
   "id": "d86ca563",
   "metadata": {},
   "source": [
    "### 2 - Import MySQL connector module\n"
   ]
  },
  {
   "cell_type": "code",
   "execution_count": 14,
   "id": "e69c2f52",
   "metadata": {},
   "outputs": [],
   "source": [
    "import mysql.connector"
   ]
  },
  {
   "cell_type": "markdown",
   "id": "e646efc6",
   "metadata": {},
   "source": [
    "### 3 - Import MySQL connector module\n",
    "\n",
    "Use the connect() method of the MySQL Connector class with the required arguments to connect MySQL. It would return a MySQLConnection object if the connection established successfully\n"
   ]
  },
  {
   "cell_type": "markdown",
   "id": "7c0ab34e",
   "metadata": {},
   "source": [
    "### 4 - Use the cursor() method\n",
    "Use the cursor() method of a MySQLConnection object to create a cursor object to perform various SQL operations."
   ]
  },
  {
   "cell_type": "code",
   "execution_count": null,
   "id": "9a7baf21",
   "metadata": {},
   "outputs": [],
   "source": []
  },
  {
   "cell_type": "markdown",
   "id": "364fcf5f",
   "metadata": {},
   "source": [
    "### 5 - Use the execute() method\n"
   ]
  },
  {
   "cell_type": "code",
   "execution_count": null,
   "id": "03e0d071",
   "metadata": {},
   "outputs": [],
   "source": []
  },
  {
   "cell_type": "markdown",
   "id": "70b5b59e",
   "metadata": {},
   "source": [
    "### 6 - Extract result using fetchall()\n",
    "\n",
    "Use cursor.fetchall() or fetchone() or fetchmany() to read query result."
   ]
  },
  {
   "cell_type": "code",
   "execution_count": null,
   "id": "5e6e479b",
   "metadata": {},
   "outputs": [],
   "source": []
  },
  {
   "cell_type": "markdown",
   "id": "2364a7dd",
   "metadata": {},
   "source": [
    "### 7 - Close cursor and connection objects\n",
    "\n",
    "use cursor.clsoe() and connection.clsoe() method to close open connections after your work completes\n"
   ]
  },
  {
   "cell_type": "code",
   "execution_count": null,
   "id": "da4497a4",
   "metadata": {},
   "outputs": [],
   "source": []
  },
  {
   "cell_type": "markdown",
   "id": "bb6b9d96",
   "metadata": {},
   "source": [
    "###  Examples"
   ]
  },
  {
   "cell_type": "code",
   "execution_count": 7,
   "id": "e00e3297",
   "metadata": {},
   "outputs": [],
   "source": [
    "# How to connect"
   ]
  },
  {
   "cell_type": "code",
   "execution_count": 3,
   "id": "dcfc337d",
   "metadata": {},
   "outputs": [],
   "source": [
    "import mysql.connector\n",
    "from mysql.connector import Error"
   ]
  },
  {
   "cell_type": "code",
   "execution_count": 4,
   "id": "d8686f00",
   "metadata": {
    "scrolled": true
   },
   "outputs": [
    {
     "name": "stdout",
     "output_type": "stream",
     "text": [
      "Connected to MySQL Server version  5.7.35\n",
      "You're connected to database  ('LendingClub',)\n",
      "MySQL connection is closed\n"
     ]
    }
   ],
   "source": [
    "try:\n",
    "    connection = mysql.connector.connect(host = 'localhost',\n",
    "                                         database = 'LendingClub',\n",
    "                                         user = 'root',\n",
    "                                         password = '0612',\n",
    "                                         port = 3307)\n",
    "    if connection.is_connected():\n",
    "        db_Info = connection.get_server_info()\n",
    "        print(\"Connected to MySQL Server version \", db_Info)\n",
    "        cursor = connection.cursor()\n",
    "        cursor.execute(\"select database();\")\n",
    "        record =  cursor.fetchone()\n",
    "        print(\"You're connected to database \", record)\n",
    "        \n",
    "except Error as e:\n",
    "    print(\"Error while connecting to MySQL\", e)\n",
    "\n",
    "finally:\n",
    "    if connection.is_connected():\n",
    "        cursor.close()\n",
    "        connection.close()\n",
    "        print(\"MySQL connection is closed\")\n",
    "        "
   ]
  },
  {
   "cell_type": "code",
   "execution_count": null,
   "id": "3e4c4808",
   "metadata": {},
   "outputs": [],
   "source": []
  },
  {
   "cell_type": "code",
   "execution_count": null,
   "id": "475c6c8c",
   "metadata": {},
   "outputs": [],
   "source": [
    "# How to create a table\n",
    "\n",
    "import mysql.connector\n",
    "\n",
    "try:\n",
    "    connection = mysql.connector.connect(host='localhost',\n",
    "                                         database='Electronics',\n",
    "                                         user='pynative',\n",
    "                                         password='pynative@#29')\n",
    "\n",
    "    mySql_Create_Table_Query = \"\"\"CREATE TABLE Laptop ( \n",
    "                             Id int(11) NOT NULL,\n",
    "                             Name varchar(250) NOT NULL,\n",
    "                             Price float NOT NULL,\n",
    "                             Purchase_date Date NOT NULL,\n",
    "                             PRIMARY KEY (Id)) \"\"\"\n",
    "\n",
    "    cursor = connection.cursor()\n",
    "    result = cursor.execute(mySql_Create_Table_Query)\n",
    "    print(\"Laptop Table created successfully \")\n",
    "\n",
    "except mysql.connector.Error as error:\n",
    "    print(\"Failed to create table in MySQL: {}\".format(error))\n",
    "finally:\n",
    "    if connection.is_connected():\n",
    "        cursor.close()\n",
    "        connection.close()\n",
    "        print(\"MySQL connection is closed\")"
   ]
  },
  {
   "cell_type": "code",
   "execution_count": null,
   "id": "a5786440",
   "metadata": {},
   "outputs": [],
   "source": []
  },
  {
   "cell_type": "code",
   "execution_count": null,
   "id": "6371d633",
   "metadata": {},
   "outputs": [],
   "source": []
  },
  {
   "cell_type": "code",
   "execution_count": 10,
   "id": "effccb12",
   "metadata": {},
   "outputs": [
    {
     "name": "stdout",
     "output_type": "stream",
     "text": [
      "Total number of rows in table:  6\n",
      "\n",
      " Printing each row\n",
      "Id =  diagnostics.allow_i_s_tables\n",
      "Teste =  OFF\n",
      "Id =  diagnostics.include_raw\n",
      "Teste =  OFF\n",
      "Id =  ps_thread_trx_info.max_length\n",
      "Teste =  65535\n",
      "Id =  statement_performance_analyzer.limit\n",
      "Teste =  100\n",
      "Id =  statement_performance_analyzer.view\n",
      "Teste =  None\n",
      "Id =  statement_truncate_len\n",
      "Teste =  64\n",
      "MySQL connection is closed\n"
     ]
    }
   ],
   "source": [
    "# How to QUERY\n",
    "\n",
    "try:\n",
    "    connection = mysql.connector.connect(host = 'localhost',\n",
    "                                         database = 'sys',\n",
    "                                         user = 'root',\n",
    "                                         password = '0612')\n",
    "    sql_select_query = 'SELECT * FROM sys_config'\n",
    "    cursor = connection.cursor()\n",
    "    cursor.execute(sql_select_query)\n",
    "    \n",
    "    # get all records\n",
    "    \n",
    "    records = cursor.fetchall()\n",
    "    print(\"Total number of rows in table: \", cursor.rowcount)\n",
    "    \n",
    "    print(\"\\n Printing each row\")\n",
    "    for row in records:\n",
    "        print(\"Id = \", row[0])\n",
    "        print(\"Teste = \", row[1])\n",
    "except mysql.connector.Error as e:\n",
    "    print(\"Error reading data from MySQL table \", e)\n",
    "    \n",
    "finally:\n",
    "    if connection.is_connected():\n",
    "        connection.close()\n",
    "        cursor.close()\n",
    "        print(\"MySQL connection is closed\")"
   ]
  },
  {
   "cell_type": "code",
   "execution_count": null,
   "id": "bc46b6e5",
   "metadata": {},
   "outputs": [],
   "source": []
  },
  {
   "cell_type": "code",
   "execution_count": null,
   "id": "c8631593",
   "metadata": {},
   "outputs": [],
   "source": []
  },
  {
   "cell_type": "code",
   "execution_count": 18,
   "id": "91c55949",
   "metadata": {
    "scrolled": false
   },
   "outputs": [
    {
     "data": {
      "text/plain": [
       "['member_id',\n",
       " 'loan_amnt',\n",
       " 'funded_amnt',\n",
       " 'funded_amnt_inv',\n",
       " 'grade',\n",
       " 'sub_grade',\n",
       " 'int_rate',\n",
       " 'annual_inc',\n",
       " 'issue_d',\n",
       " 'loan_status',\n",
       " 'addr_state',\n",
       " 'mths_since_last_delinq',\n",
       " 'recoveries',\n",
       " 'annual_inc_joint',\n",
       " 'tot_coll_amt',\n",
       " 'emp_length',\n",
       " 'issue_d',\n",
       " 'earliest_cr_line',\n",
       " 'term']"
      ]
     },
     "execution_count": 18,
     "metadata": {},
     "output_type": "execute_result"
    }
   ],
   "source": [
    "# How to insert\n",
    "\n",
    "features = 'member_id loan_amnt funded_amnt funded_amnt_inv grade sub_grade int_rate annual_inc issue_d loan_status addr_state mths_since_last_delinq recoveries annual_inc_joint tot_coll_amt emp_length issue_d earliest_cr_line term'.split()\n",
    "features"
   ]
  },
  {
   "cell_type": "code",
   "execution_count": 85,
   "id": "d72e8073",
   "metadata": {},
   "outputs": [],
   "source": [
    "def sql_insert(df, table):\n",
    "    \n",
    "    columns = df.index[0]\n",
    "    \n",
    "    values = str(df.values[0])\n",
    "    \n",
    "    for col, val in zip(df.index[1:-1], df.values[1:-1]):\n",
    "        \n",
    "        columns = columns + ', ' + col\n",
    "        values = values + ', ' + str(val)\n",
    "        \n",
    "    return f'INSERT INTO {table} ({columns}) VALUES ({values})'\n",
    "                "
   ]
  },
  {
   "cell_type": "code",
   "execution_count": 86,
   "id": "1112d73f",
   "metadata": {},
   "outputs": [
    {
     "name": "stdout",
     "output_type": "stream",
     "text": [
      "INSERT INTO LendingClub (member_id, loan_amnt, funded_amnt, funded_amnt_inv, grade, sub_grade, int_rate, annual_inc, issue_d, loan_status, addr_state, mths_since_last_delinq, recoveries, annual_inc_joint, tot_coll_amt, emp_length, issue_d, earliest_cr_line) VALUES (1296599, 5000, 5000, 4975.0, B, B2, 10.65, 24000.0, Dec-11, Fully Paid, AZ, nan, 0.0, nan, nan, 10+ years, Dec-11, Jan-85)\n",
      "INSERT INTO LendingClub (member_id, loan_amnt, funded_amnt, funded_amnt_inv, grade, sub_grade, int_rate, annual_inc, issue_d, loan_status, addr_state, mths_since_last_delinq, recoveries, annual_inc_joint, tot_coll_amt, emp_length, issue_d, earliest_cr_line) VALUES (1314167, 2500, 2500, 2500.0, C, C4, 15.27, 30000.0, Dec-11, Charged Off, GA, nan, 117.08, nan, nan, < 1 year, Dec-11, Apr-99)\n",
      "INSERT INTO LendingClub (member_id, loan_amnt, funded_amnt, funded_amnt_inv, grade, sub_grade, int_rate, annual_inc, issue_d, loan_status, addr_state, mths_since_last_delinq, recoveries, annual_inc_joint, tot_coll_amt, emp_length, issue_d, earliest_cr_line) VALUES (1313524, 2400, 2400, 2400.0, C, C5, 15.96, 12252.0, Dec-11, Fully Paid, IL, nan, 0.0, nan, nan, 10+ years, Dec-11, Nov-01)\n",
      "INSERT INTO LendingClub (member_id, loan_amnt, funded_amnt, funded_amnt_inv, grade, sub_grade, int_rate, annual_inc, issue_d, loan_status, addr_state, mths_since_last_delinq, recoveries, annual_inc_joint, tot_coll_amt, emp_length, issue_d, earliest_cr_line) VALUES (1277178, 10000, 10000, 10000.0, C, C1, 13.49, 49200.0, Dec-11, Fully Paid, CA, 35.0, 0.0, nan, nan, 10+ years, Dec-11, Feb-96)\n"
     ]
    }
   ],
   "source": [
    "for i in df[features].index[0:4]:\n",
    "    \n",
    "    print(sql_insert(df[features].loc[i], 'LendingClub'))\n",
    "    "
   ]
  },
  {
   "cell_type": "markdown",
   "id": "14aa31d0",
   "metadata": {},
   "source": [
    "### DataFrame to MySQL database"
   ]
  },
  {
   "cell_type": "code",
   "execution_count": 15,
   "id": "3180f959",
   "metadata": {},
   "outputs": [],
   "source": [
    "host = 'localhost',\n",
    "database = 'LendingClub',\n",
    "user = 'root',\n",
    "password = '0612'"
   ]
  },
  {
   "cell_type": "code",
   "execution_count": 16,
   "id": "e0d0b0a6",
   "metadata": {},
   "outputs": [],
   "source": [
    "import sqlalchemy"
   ]
  },
  {
   "cell_type": "code",
   "execution_count": 19,
   "id": "46bb2d9a",
   "metadata": {},
   "outputs": [],
   "source": [
    "database_username = 'root'\n",
    "database_password = '0612'\n",
    "database_ip       = 'localhost:3307'\n",
    "database_name     = 'sys'\n",
    "database_connection = sqlalchemy.create_engine('mysql+mysqlconnector://{0}:{1}@{2}/{3}'.\n",
    "                                               format(database_username, database_password, \n",
    "                                                      database_ip, database_name))"
   ]
  },
  {
   "cell_type": "code",
   "execution_count": null,
   "id": "1086f74d",
   "metadata": {},
   "outputs": [],
   "source": [
    "df.to_sql(con=database_connection, name='lending_club_2007_2014', if_exists='replace')\n"
   ]
  },
  {
   "cell_type": "code",
   "execution_count": null,
   "id": "6852954f",
   "metadata": {},
   "outputs": [],
   "source": []
  }
 ],
 "metadata": {
  "kernelspec": {
   "display_name": "Python 3 (ipykernel)",
   "language": "python",
   "name": "python3"
  },
  "language_info": {
   "codemirror_mode": {
    "name": "ipython",
    "version": 3
   },
   "file_extension": ".py",
   "mimetype": "text/x-python",
   "name": "python",
   "nbconvert_exporter": "python",
   "pygments_lexer": "ipython3",
   "version": "3.10.0"
  }
 },
 "nbformat": 4,
 "nbformat_minor": 5
}
